{
  "nbformat": 4,
  "nbformat_minor": 0,
  "metadata": {
    "colab": {
      "name": "Копия блокнота \"LogisticRegression.ipynb\"",
      "provenance": []
    },
    "kernelspec": {
      "name": "python3",
      "display_name": "Python 3"
    },
    "language_info": {
      "name": "python"
    }
  },
  "cells": [
    {
      "cell_type": "markdown",
      "metadata": {
        "id": "SpmFslc-UdW0"
      },
      "source": [
        "### Классификация\n",
        "\n",
        "Вы уже встречались с задачей классфикации в работе [«Персонализация новостной ленты Hacker News»](http://127.0.0.1:4000/2017/11/22/06-hackernews/). В общем виде задачу классификации можно представить следующим образом: имеется множество объектов, которые разделены на классы по некоторым признакам. Например, успевающие студенты и отстающие студенты. В обучающей выборке задано конечное множество объектов и их признаков. Например, перечень всех студентов учебного заведения и все оценки по прошедшим и текущим дисциплинам. Для каждого из объектов обучающей выборки известно, к каким классам они относятся. Принадлежность же остальных объектов к классам неизвестна. Требуется построить алгоритм, способный классифицировать произвольный объект из исходного множества, то есть указать наименование (или номер) класса, к которому объект отнесён в результате применения алгоритма классификации.\n",
        "\n",
        "### *Логистическая регрессия*\n",
        "\n",
        "Давайте рассмотрим логистическую регрессию на примере набора данных цветов ириса.\n",
        "\n",
        "Для простоты будем использовать только два признака `Sepal Width` и `Sepal Length`, а также два класса `Setosa` и `Versicolor`:"
      ]
    },
    {
      "cell_type": "code",
      "metadata": {
        "id": "Cv2EQj08UgId"
      },
      "source": [
        "import math\n",
        "import pandas as pd\n",
        "import numpy as np\n",
        "import matplotlib.pyplot as plt\n",
        "import seaborn as sns\n",
        "from sklearn import datasets\n",
        "%matplotlib inline"
      ],
      "execution_count": 4,
      "outputs": []
    },
    {
      "cell_type": "code",
      "metadata": {
        "id": "veHnjZ3gUkOo",
        "colab": {
          "base_uri": "https://localhost:8080/",
          "height": 282
        },
        "outputId": "5cc14760-a93d-4d51-f44f-687ed6e004dc"
      },
      "source": [
        "data = datasets.load_iris()\n",
        "X = data.data[:100, :2]\n",
        "y = data.target[:100]\n",
        "\n",
        "setosa = plt.scatter(X[:50,0], X[:50,1], c='b')\n",
        "versicolor = plt.scatter(X[50:,0], X[50:,1], c='r')\n",
        "plt.xlabel(\"Sepal Length\")\n",
        "plt.ylabel(\"Sepal Width\")\n",
        "plt.legend((setosa, versicolor), (\"Setosa\", \"Versicolor\"))\n",
        "sns.despine()"
      ],
      "execution_count": 5,
      "outputs": [
        {
          "output_type": "display_data",
          "data": {
            "image/png": "[encoded data removed]",
            "text/plain": [
              "<Figure size 432x288 with 1 Axes>"
            ]
          },
          "metadata": {
            "tags": [],
            "needs_background": "light"
          }
        }
      ]
    },
    {
      "cell_type": "markdown",
      "metadata": {
        "id": "t3mH9SwHUlCL"
      },
      "source": [
        "Итак, наша задача построить разделяющую границу (decision boundary), которая бы позволила нам отделить наблюдения одного класса (`Setosa`) от другого (`Versicolor`). Одним из напрашиваемых решений является представление зависимой переменной в виде линейной комбинации признаков (по аналогии с линейной регрессией):\n",
        "\n",
        "$$\n",
        "y_i = \\theta_0 + \\theta_1 SW_{i} + \\theta_2 SL_{i}\n",
        "$$\n",
        "\n",
        "Предположим, что у нас есть наблюдение с признаками $SW = 3.5$ и $SL = 5$. И кто-то сказал нам, что $\\theta_0 = 1$, $\\theta_1 = 2$ и $\\theta_2 = 4$, тогда:\n",
        "\n",
        "$$\n",
        "y_i = 1 + 2 * 3.5 + 4 * 5 = 28\n",
        "$$\n",
        "\n",
        "Во-первых, как мы должны интерпретировать значене $28$? Во-вторых, модель в таком виде подходит для прогнозирования непрерывных значений, которые ограничены бесконечностью:\n",
        "\n",
        "$$\n",
        "-\\infty \\le \\theta^{T}x \\le +\\infty\n",
        "$$\n",
        "В действительности мы хотим построить модель, которая позволит нам прогнозировать бинарный отклик, а точнее вероятность отнесения наблюдения к одному из классов, то есть:\n",
        "$$\n",
        "P(y=1 \\mid x) = f(\\theta^{T}x)\n",
        "$$\n",
        "\n",
        "$$\n",
        "P(y=0 \\mid x) = 1 - f(\\theta^{T}x)\n",
        "$$\n",
        "\n",
        "Где:\n",
        "\n",
        "$$\n",
        "0 \\le f(\\theta^{T}x) \\le 1\n",
        "$$\n",
        "\n",
        "\n",
        "Такой функцией $f$ может быть **логистическая функция**:\n",
        "\n",
        "$$\n",
        "P(y = 1 \\mid x) = \\frac{e^{\\theta^{T}x}}{1 + e^{\\theta^{T}x}} = \\frac{1}{1 + e^{-\\theta^{T}x}}\n",
        "$$"
      ]
    },
    {
      "cell_type": "code",
      "metadata": {
        "id": "VxDVo58qUpuW",
        "colab": {
          "base_uri": "https://localhost:8080/",
          "height": 265
        },
        "outputId": "35f08a08-a75e-4d90-e623-a67d29c3127c"
      },
      "source": [
        "x_values = np.linspace(-5, 5, 100)\n",
        "y_values = [1 / (1 + math.e**(-x)) for x in x_values]\n",
        "plt.plot(x_values, y_values)\n",
        "plt.axhline(.5)\n",
        "plt.axvline(0)\n",
        "sns.despine()"
      ],
      "execution_count": 6,
      "outputs": [
        {
          "output_type": "display_data",
          "data": {
            "image/png": "[encoded data removed]",
            "text/plain": [
              "<Figure size 432x288 with 1 Axes>"
            ]
          },
          "metadata": {
            "tags": [],
            "needs_background": "light"
          }
        }
      ]
    },
    {
      "cell_type": "markdown",
      "metadata": {
        "id": "em4XCtQYUuV-"
      },
      "source": [
        "Отметим, что значение вероятности, описываемое логистической функцией, ограничено диапазоном значений от 0 до 1, а также то, что большие изменения вероятности требуют больших изменений в $x$, чем для значений вероятности близких к 0.5.\n",
        "\n",
        "Возвращаясь к нашему примеру:\n",
        "\n",
        "$$\n",
        "P(y = 1 \\mid x) = \\frac{1}{1 + e^{-(\\theta_0 + \\theta_1 SW_{i} + \\theta_2 SL_{i})}} = \\frac{1}{1 + e^{-28}} = 0.99\n",
        "$$\n",
        "\n",
        "\n",
        "Таким образом, с вероятностью 0.99 мы можем отнести наше наблюдение к классу `Setosa`.\n",
        "\n",
        "Как мы будем находить параметры $\\theta_i$? Для начала нам необходимо определиться с видом целевой функции. Так как наша модель прогнозирует вероятности, то мы можем использовать принцип максимального правдоподобия.\n",
        "\n",
        "Для краткости, можем записать функцию распределения $y$ при заданном $x$ в следующем виде:\n",
        "\n",
        "$$\n",
        "P(y = y_i \\mid x) = P(y_i = 1 \\mid x_i)^{y_{i}} (1 - P(y_i = 1 \\mid x_i))^{1 - y_{i}}\n",
        "$$\n",
        "\n",
        "\n",
        "Фактически, это есть распределение Бернулли.\n",
        "\n",
        "В зависимости от значения $y$ одна из двух частей уравнения будет равна 1. \n",
        "\n",
        "Для $y=1$:\n",
        "\n",
        "$$\n",
        "P(y = 1 \\mid x) = P(y_i = 1 \\mid x_i)^1 (1 - P(y_i = 1 \\mid x_i))^{1 - 1} = P(y_i = 1 \\mid x_i)\n",
        "$$\n",
        "\n",
        "\n",
        "Для $y=0$:\n",
        "\n",
        "$$\n",
        "P(y = 0 \\mid x) = P(y_i = 1 \\mid x_i)^0 (1 - P(y_i = 1 \\mid x_i))^{1 - 0} = 1 - P(y_i = 1 \\mid x_i)\n",
        "$$\n",
        "\n",
        "\n",
        "Правдоподобие для $m$ наблюдений можно записать как:\n",
        "\n",
        "$$\n",
        "L = \\prod_{i=1}^{m}P(y = y_i \\mid x_i) = \\prod_{i=1}^{m}P(y = 1 \\mid x_i)^{y_i}(1 - P(y_i = 1 \\mid x_i))^{1 - y_i}\n",
        "$$\n",
        "\n",
        "$$\n",
        "\\log L = \\sum_{i=1}^{m} y_i \\times \\log(P(y = 1 \\mid x_i)) + (1 - y_i) \\times \\log(1 - P(y_i = 1 \\mid x_i))\n",
        "$$\n",
        "\n",
        "\n",
        "Введем обозначение:\n",
        "\n",
        "$$\n",
        "p_i = P(y = 1 \\mid x_i)\n",
        "$$\n",
        "\n",
        "Тогда функция правдоподобия может быть записана как:\n",
        "\n",
        "$$\n",
        "\\log L = \\sum_{i=1}^{m} y_i \\times \\log(p_i) + (1 - y_i) \\times \\log(1 - p_i))\n",
        "$$\n",
        "\n",
        "\n",
        "Таким образом, мы можем записать нашу целевую функцию:\n",
        "\n",
        "$$\n",
        "J(\\theta) = -\\frac{1}{m}\\sum_{i=1}^{m} y_i \\times \\log(p_i) + (1 - y_i) \\times \\log(1 - p_i))\n",
        "$$\n",
        "\n",
        "\n",
        "Чтобы найти параметры $\\theta$ мы можем воспользоваться методом градиентного спуска. Вспомним правило обновления весов:\n",
        "\n",
        "$$\n",
        "\\theta := \\theta - \\alpha \\frac{\\partial}{\\partial \\theta}J(\\theta)\n",
        "$$\n",
        "\n",
        "\n",
        "Где:\n",
        "$$\n",
        "\\frac{\\partial}{\\partial \\theta}J(\\theta)\n",
        "$$\n",
        "\n",
        "Вывод производных см. [тут](http://ronny.rest/blog/post_2017_08_12_logistic_regression_derivative/).\n",
        "</div>\n",
        "$$\n",
        "\\frac{\\partial}{\\partial \\theta}J(\\theta) = \\frac{1}{m}\\sum_{i=1}^{m}(h_{\\theta}(x^{(i)}) - y^{(i)})x^{(i)}\n",
        "$$\n",
        "\n",
        "\n",
        "$$\n",
        "h_{\\theta}(x) = f(\\theta^Tx) = \\frac{1}{1 + e^{-\\theta^{T}x}}\n",
        "$$\n",
        "\n",
        "$$\n",
        "f(z) = \\frac{1}{1 + e ^{-z}}\n",
        "$$\n",
        "\n",
        "\n",
        "В результате подстановки получим следующее правило для пересчета параметров $\\theta$:\n",
        "\n",
        "$$\n",
        "\\theta := \\theta - \\alpha\\frac{1}{m}\\sum_{i=1}^{m}(h_{\\theta}(x_i)-y_i)x_i\n",
        "$$"
      ]
    },
    {
      "cell_type": "markdown",
      "metadata": {
        "id": "Z3AvUgwQVc6U"
      },
      "source": [
        "### *Пример с использованием библиотеки sklearn*\n"
      ]
    },
    {
      "cell_type": "code",
      "metadata": {
        "id": "M9jEpOEuVgH_",
        "colab": {
          "base_uri": "https://localhost:8080/"
        },
        "outputId": "6d000515-dc6b-47c4-ca65-dcd72b5997b8"
      },
      "source": [
        "from sklearn import linear_model\n",
        "from sklearn.model_selection import train_test_split\n",
        "X_train, X_test, y_train, y_test = train_test_split(X, y, test_size=0.3, random_state=17)\n",
        "\n",
        "model = linear_model.LogisticRegression()\n",
        "model.fit(X_train, y_train)\n",
        "y_pred = model.predict(X_test)\n",
        "sum(y_test == y_pred) # 30"
      ],
      "execution_count": null,
      "outputs": [
        {
          "output_type": "execute_result",
          "data": {
            "text/plain": [
              "30"
            ]
          },
          "metadata": {
            "tags": []
          },
          "execution_count": 4
        }
      ]
    },
    {
      "cell_type": "code",
      "metadata": {
        "id": "htBAj6NkViqT",
        "colab": {
          "base_uri": "https://localhost:8080/"
        },
        "outputId": "1590edb8-b12c-41f2-964c-fcc8ec69c7a4"
      },
      "source": [
        "from sklearn.metrics import accuracy_score\n",
        "accuracy_score(y_test, y_pred) # 1"
      ],
      "execution_count": null,
      "outputs": [
        {
          "output_type": "execute_result",
          "data": {
            "text/plain": [
              "1.0"
            ]
          },
          "metadata": {
            "tags": []
          },
          "execution_count": 5
        }
      ]
    },
    {
      "cell_type": "markdown",
      "metadata": {
        "id": "c-iQa6UGVksz"
      },
      "source": [
        "Давайте рассмотрим другой пример, для которого сгенеируем набор данных из 10 тысяч наблюдений:"
      ]
    },
    {
      "cell_type": "code",
      "metadata": {
        "id": "N15wVaSdVmVx"
      },
      "source": [
        "from sklearn.datasets import make_classification\n",
        "\n",
        "X, y = make_classification(n_samples=10000, n_features=10, n_classes=2, n_informative=5, random_state=17)\n",
        "X_train, X_test, y_train, y_test = train_test_split(X, y, test_size=0.3, random_state=17)\n",
        "\n",
        "model = linear_model.LogisticRegression()\n",
        "model.fit(X_train, y_train)\n",
        "y_pred = model.predict(X_test)"
      ],
      "execution_count": null,
      "outputs": []
    },
    {
      "cell_type": "code",
      "metadata": {
        "id": "1VKdLKGWVn9u",
        "colab": {
          "base_uri": "https://localhost:8080/"
        },
        "outputId": "9d3d7e97-d0a1-457b-89ff-f91d5dddb440"
      },
      "source": [
        "sum(y_test == y_pred) # 2306"
      ],
      "execution_count": null,
      "outputs": [
        {
          "output_type": "execute_result",
          "data": {
            "text/plain": [
              "2306"
            ]
          },
          "metadata": {
            "tags": []
          },
          "execution_count": 7
        }
      ]
    },
    {
      "cell_type": "code",
      "metadata": {
        "id": "t2-Z6C9yVubs",
        "colab": {
          "base_uri": "https://localhost:8080/"
        },
        "outputId": "7f544af0-8590-4295-ce5a-0bd6484dbc84"
      },
      "source": [
        "accuracy_score(y_test, y_pred) # 0.76866666666666672"
      ],
      "execution_count": null,
      "outputs": [
        {
          "output_type": "execute_result",
          "data": {
            "text/plain": [
              "0.7686666666666667"
            ]
          },
          "metadata": {
            "tags": []
          },
          "execution_count": 8
        }
      ]
    },
    {
      "cell_type": "markdown",
      "metadata": {
        "id": "HACf1T0mVy3J"
      },
      "source": [
        "Значение $0.7687$ ничего не говорит нам об ошибках [первого и второго рода](https://ru.wikipedia.org/wiki/%D0%9E%D1%88%D0%B8%D0%B1%D0%BA%D0%B8_%D0%BF%D0%B5%D1%80%D0%B2%D0%BE%D0%B3%D0%BE_%D0%B8_%D0%B2%D1%82%D0%BE%D1%80%D0%BE%D0%B3%D0%BE_%D1%80%D0%BE%D0%B4%D0%B0). Мы можем построить матрицу ошибок $C$, чтобы получить более полное представление."
      ]
    },
    {
      "cell_type": "code",
      "metadata": {
        "id": "42bYnlrbVzof",
        "colab": {
          "base_uri": "https://localhost:8080/"
        },
        "outputId": "14dc43fd-e147-4593-89f7-bab7bdff3ce8"
      },
      "source": [
        "from sklearn.metrics import confusion_matrix\n",
        "confusion_matrix(y_test, y_pred) # array([[1129,  363], [ 331, 1177]])"
      ],
      "execution_count": null,
      "outputs": [
        {
          "output_type": "execute_result",
          "data": {
            "text/plain": [
              "array([[1129,  363],\n",
              "       [ 331, 1177]])"
            ]
          },
          "metadata": {
            "tags": []
          },
          "execution_count": 9
        }
      ]
    },
    {
      "cell_type": "markdown",
      "metadata": {
        "id": "t87P9JFzV8Tc"
      },
      "source": [
        "где:\n",
        "\n",
        "- $C_{0,0} = 1129$ – True Negatives (TN), истинное значение 0, предсказанное 0\n",
        "- $C_{1,0} = 331$ – False Negatives (FN), истинное значение 1, предсказанное 0\n",
        "- $C_{0,1} = 363$ – False Positives (FP), истинное значение 0, предсказанное 1\n",
        "- $C_{1,1} = 1177$ – True Positives (TP), истинное значение 1, предсказанное 1\n",
        "\n",
        "И наконец мы можем построить ROC-кривую (https://dyakonov.org/2017/07/28/auc-roc-%D0%BF%D0%BB%D0%BE%D1%89%D0%B0%D0%B4%D1%8C-%D0%BF%D0%BE%D0%B4-%D0%BA%D1%80%D0%B8%D0%B2%D0%BE%D0%B9-%D0%BE%D1%88%D0%B8%D0%B1%D0%BE%D0%BA/) для визуальной оценки точности работы классификатора:"
      ]
    },
    {
      "cell_type": "code",
      "metadata": {
        "id": "rjPoHg7rWBbB",
        "colab": {
          "base_uri": "https://localhost:8080/",
          "height": 295
        },
        "outputId": "f15342e1-e2b3-4816-bb9a-f4ede018f75f"
      },
      "source": [
        "from sklearn.metrics import roc_curve, auc\n",
        "\n",
        "def plot_roc_curve(y_pred, y_test):\n",
        "    fpr, tpr, _ = roc_curve(y_test, y_pred)\n",
        "    roc_auc = auc(fpr, tpr)\n",
        "    plt.figure()\n",
        "    plt.plot(fpr, tpr, color='darkorange', lw=2, label='ROC curve (area = %0.2f)' % roc_auc)\n",
        "    plt.plot([0, 1], [0, 1], color='navy', lw=2, linestyle='--')\n",
        "    plt.xlim([0.0, 1.0])\n",
        "    plt.ylim([0.0, 1.05])\n",
        "    plt.xlabel('False Positive Rate')\n",
        "    plt.ylabel('True Positive Rate')\n",
        "    plt.title('ROC Curve')\n",
        "    plt.legend(loc=\"lower right\")\n",
        "    plt.show()\n",
        "\n",
        "y_pred = model.predict_proba(X_test)[:,1]\n",
        "plot_roc_curve(y_pred, y_test)"
      ],
      "execution_count": null,
      "outputs": [
        {
          "output_type": "display_data",
          "data": {
            "image/png": "[encoded data removed]",
            "text/plain": [
              "<Figure size 432x288 with 1 Axes>"
            ]
          },
          "metadata": {
            "tags": [],
            "needs_background": "light"
          }
        }
      ]
    },
    {
      "cell_type": "markdown",
      "metadata": {
        "id": "xVu6O8BDWCJS"
      },
      "source": [
        "### *Многоклассовая классификация*"
      ]
    },
    {
      "cell_type": "code",
      "metadata": {
        "id": "10JJVPZSWDpI",
        "colab": {
          "base_uri": "https://localhost:8080/"
        },
        "outputId": "cf05a9ce-adac-4a81-bf52-989ea76c88ed"
      },
      "source": [
        "data = datasets.load_iris()\n",
        "X = data.data\n",
        "y = data.target\n",
        "\n",
        "X_train, X_test, y_train, y_test = train_test_split(X, y, test_size=0.3, random_state=17)\n",
        "\n",
        "model = linear_model.LogisticRegression(multi_class='ovr')\n",
        "model.fit(X_train, y_train)\n",
        "\n",
        "y_pred = model.predict(X_test)\n",
        "print(sum(y_test == y_pred)) # 42\n",
        "print(accuracy_score(y_test, y_pred)) #0.93333333333333335\n",
        "print(confusion_matrix(y_test, y_pred)) # array([[12,  0,  0], [ 0, 16,  3], [ 0,  0, 14]])"
      ],
      "execution_count": null,
      "outputs": [
        {
          "output_type": "stream",
          "text": [
            "44\n",
            "0.9777777777777777\n",
            "[[12  0  0]\n",
            " [ 0 18  1]\n",
            " [ 0  0 14]]\n"
          ],
          "name": "stdout"
        }
      ]
    },
    {
      "cell_type": "code",
      "metadata": {
        "id": "Y37AQv0rWWhZ"
      },
      "source": [
        "def plot_roc_curve(y_predict_proba, y_test, n_classes=3):\n",
        "    # Compute ROC curve and ROC AUC for each class\n",
        "    n_classes = 3\n",
        "    fpr = {}\n",
        "    tpr = {}\n",
        "    roc_auc = {}\n",
        "    all_y_test_i = np.array([])\n",
        "    all_y_predict_proba = np.array([])\n",
        "\n",
        "    for i in range(n_classes):\n",
        "        y_test_i = [1 if yi == i else 0 for yi in y_test]\n",
        "        all_y_test_i = np.concatenate([all_y_test_i, y_test_i])\n",
        "        all_y_predict_proba = np.concatenate([all_y_predict_proba, y_predict_proba[:, i]])\n",
        "        fpr[i], tpr[i], _ = roc_curve(y_test_i, y_predict_proba[:, i])\n",
        "        roc_auc[i] = auc(fpr[i], tpr[i])\n",
        "    \n",
        "    # Compute micro-average ROC curve and ROC area\n",
        "    fpr[\"average\"], tpr[\"average\"], _ = roc_curve(all_y_test_i, all_y_predict_proba)\n",
        "    roc_auc[\"average\"] = auc(fpr[\"average\"], tpr[\"average\"])\n",
        "\n",
        "    # Plot average ROC Curve\n",
        "    plt.figure()\n",
        "    plt.plot(fpr[\"average\"], tpr[\"average\"],\n",
        "        label='Average ROC curve (area = {0:0.2f})'.format(roc_auc[\"average\"]),\n",
        "        color='deeppink', linestyle=':', linewidth=4)\n",
        "\n",
        "    # Plot each individual ROC curve\n",
        "    for i in range(n_classes):\n",
        "        plt.plot(fpr[i], tpr[i], lw=2, label='ROC curve of class {0} (area = {1:0.2f})'.format(i, roc_auc[i]))\n",
        "\n",
        "    plt.plot([0, 1], [0, 1], 'k--', lw=2)\n",
        "    plt.xlim([0.0, 1.0])\n",
        "    plt.ylim([0.0, 1.05])\n",
        "    plt.xlabel('False Positive Rate')\n",
        "    plt.ylabel('True Positive Rate')\n",
        "    plt.title('Some extension of Receiver operating characteristic to multi-class')\n",
        "    plt.legend(loc=\"lower right\")\n",
        "    plt.show()"
      ],
      "execution_count": null,
      "outputs": []
    },
    {
      "cell_type": "markdown",
      "metadata": {
        "id": "saZw3aghWXL6"
      },
      "source": [
        "### *Задание*"
      ]
    },
    {
      "cell_type": "code",
      "metadata": {
        "id": "GWFURmz6WYZ_"
      },
      "source": [
        "class LogisticRegression:\n",
        "    def __init__(self, alpha=0.01, max_iter=1000):\n",
        "        self.alpha = alpha\n",
        "        self.max_iter = max_iter\n",
        "\n",
        "    def fit(self, X_test, y_test):\n",
        "        m = y_train.size\n",
        "        X = X_train.copy()\n",
        "        X = np.insert(X, 0, 1, axis=1)\n",
        "        t = X.T\n",
        "        theta = np.zeros(X.shape[1])\n",
        "\n",
        "        for n in range(self.max_iter):\n",
        "            z = np.dot(theta, t)\n",
        "            sigma = 1 / (1 + np.exp(-z))\n",
        "            theta -= self.alpha * (1 / m) * np.dot((sigma - y_train), X)\n",
        "\n",
        "        self.intercept_ = theta[0]\n",
        "        self.coef_ = theta[1:]\n",
        "\n",
        "        return self.coef_, self.intercept_\n",
        "\n",
        "    def predict(self, X_train):\n",
        "        pred = []\n",
        "        for i in range(len(X_test)):\n",
        "            z = self.intercept_ + np.sum(X_test[i] * self.coef_)\n",
        "            sigma = 1 / (1 + np.exp(-z))\n",
        "\n",
        "            if sigma >= 0.5:\n",
        "                pred.append(1)\n",
        "            else:\n",
        "                pred.append(0)\n",
        "\n",
        "        return pred\n",
        "\n",
        "    def predict_proba(self, X_train):\n",
        "        return [(1 / (1 + np.exp(-(self.intercept_ + np.sum(X_test[i] * self.coef_)))), 1 - 1 / (1 + np.exp(-(self.intercept_ + np.sum(X_test[i] * self.coef_))))) for i in range(len(X_test))]"
      ],
      "execution_count": 7,
      "outputs": []
    },
    {
      "cell_type": "code",
      "metadata": {
        "id": "Cgkz6GKQkVGH"
      },
      "source": [
        "iris = pd.DataFrame(data=data.data, columns=data.feature_names)"
      ],
      "execution_count": 8,
      "outputs": []
    },
    {
      "cell_type": "code",
      "metadata": {
        "id": "9qDHZOY_mRat"
      },
      "source": [
        "iris = iris.drop(\"petal length (cm)\", axis=1)"
      ],
      "execution_count": 9,
      "outputs": []
    },
    {
      "cell_type": "code",
      "metadata": {
        "id": "0EphgvK6FWPu"
      },
      "source": [
        "iris = iris.drop(\"petal width (cm)\", axis=1)"
      ],
      "execution_count": 10,
      "outputs": []
    },
    {
      "cell_type": "code",
      "metadata": {
        "colab": {
          "base_uri": "https://localhost:8080/",
          "height": 204
        },
        "id": "Do0beWc2FXcA",
        "outputId": "e50521ea-0e66-401a-be3d-a32c6f696009"
      },
      "source": [
        "iris.head()"
      ],
      "execution_count": 11,
      "outputs": [
        {
          "output_type": "execute_result",
          "data": {
            "text/html": [
              "<div>\n",
              "<style scoped>\n",
              "    .dataframe tbody tr th:only-of-type {\n",
              "        vertical-align: middle;\n",
              "    }\n",
              "\n",
              "    .dataframe tbody tr th {\n",
              "        vertical-align: top;\n",
              "    }\n",
              "\n",
              "    .dataframe thead th {\n",
              "        text-align: right;\n",
              "    }\n",
              "</style>\n",
              "<table border=\"1\" class=\"dataframe\">\n",
              "  <thead>\n",
              "    <tr style=\"text-align: right;\">\n",
              "      <th></th>\n",
              "      <th>sepal length (cm)</th>\n",
              "      <th>sepal width (cm)</th>\n",
              "    </tr>\n",
              "  </thead>\n",
              "  <tbody>\n",
              "    <tr>\n",
              "      <th>0</th>\n",
              "      <td>5.1</td>\n",
              "      <td>3.5</td>\n",
              "    </tr>\n",
              "    <tr>\n",
              "      <th>1</th>\n",
              "      <td>4.9</td>\n",
              "      <td>3.0</td>\n",
              "    </tr>\n",
              "    <tr>\n",
              "      <th>2</th>\n",
              "      <td>4.7</td>\n",
              "      <td>3.2</td>\n",
              "    </tr>\n",
              "    <tr>\n",
              "      <th>3</th>\n",
              "      <td>4.6</td>\n",
              "      <td>3.1</td>\n",
              "    </tr>\n",
              "    <tr>\n",
              "      <th>4</th>\n",
              "      <td>5.0</td>\n",
              "      <td>3.6</td>\n",
              "    </tr>\n",
              "  </tbody>\n",
              "</table>\n",
              "</div>"
            ],
            "text/plain": [
              "   sepal length (cm)  sepal width (cm)\n",
              "0                5.1               3.5\n",
              "1                4.9               3.0\n",
              "2                4.7               3.2\n",
              "3                4.6               3.1\n",
              "4                5.0               3.6"
            ]
          },
          "metadata": {
            "tags": []
          },
          "execution_count": 11
        }
      ]
    },
    {
      "cell_type": "code",
      "metadata": {
        "colab": {
          "base_uri": "https://localhost:8080/",
          "height": 282
        },
        "id": "nxRBSc_mFYkl",
        "outputId": "22f38059-9742-4792-d7ff-29ded8d4a4c8"
      },
      "source": [
        "X = data.data[:100, :2]\n",
        "y = data.target[:100]\n",
        "\n",
        "setosa = plt.scatter(X[:50,0], X[:50,1], c='b')\n",
        "versicolor = plt.scatter(X[50:,0], X[50:,1], c='r')\n",
        "plt.xlabel(\"Sepal Length\")\n",
        "plt.ylabel(\"Sepal Width\")\n",
        "plt.legend((setosa, versicolor), (\"Setosa\", \"Versicolor\")) # Разделяющая граница одного класса от другого\n",
        "sns.despine()"
      ],
      "execution_count": 12,
      "outputs": [
        {
          "output_type": "display_data",
          "data": {
            "image/png": "[encoded data removed]",
            "text/plain": [
              "<Figure size 432x288 with 1 Axes>"
            ]
          },
          "metadata": {
            "tags": [],
            "needs_background": "light"
          }
        }
      ]
    },
    {
      "cell_type": "code",
      "metadata": {
        "id": "1Kkq7MWAGBjQ"
      },
      "source": [
        "from sklearn import linear_model\n",
        "from sklearn.model_selection import train_test_split"
      ],
      "execution_count": 14,
      "outputs": []
    },
    {
      "cell_type": "code",
      "metadata": {
        "id": "s_nkmscyFaQs"
      },
      "source": [
        "X_train, X_test, y_train, y_test = train_test_split(X, y, test_size=0.3, random_state=17)"
      ],
      "execution_count": 15,
      "outputs": []
    },
    {
      "cell_type": "code",
      "metadata": {
        "id": "YpCXCqqWFboE"
      },
      "source": [
        "model = LogisticRegression()"
      ],
      "execution_count": 16,
      "outputs": []
    },
    {
      "cell_type": "code",
      "metadata": {
        "colab": {
          "base_uri": "https://localhost:8080/"
        },
        "id": "auFVxQPTFc1k",
        "outputId": "cf8d78fa-c15e-46ac-b031-6f8c0851049a"
      },
      "source": [
        "model.fit(X_train, y_train)"
      ],
      "execution_count": 17,
      "outputs": [
        {
          "output_type": "execute_result",
          "data": {
            "text/plain": [
              "(array([ 0.90164463, -1.51165549]), -0.18718902072122612)"
            ]
          },
          "metadata": {
            "tags": []
          },
          "execution_count": 17
        }
      ]
    },
    {
      "cell_type": "code",
      "metadata": {
        "colab": {
          "base_uri": "https://localhost:8080/"
        },
        "id": "kex9oPjwFdy7",
        "outputId": "7231a1d8-f77a-4876-e541-4e134637e609"
      },
      "source": [
        "ans = model.predict(X_test)\n",
        "ans"
      ],
      "execution_count": 18,
      "outputs": [
        {
          "output_type": "execute_result",
          "data": {
            "text/plain": [
              "[1,\n",
              " 0,\n",
              " 0,\n",
              " 0,\n",
              " 1,\n",
              " 0,\n",
              " 1,\n",
              " 1,\n",
              " 0,\n",
              " 0,\n",
              " 1,\n",
              " 1,\n",
              " 0,\n",
              " 1,\n",
              " 0,\n",
              " 0,\n",
              " 0,\n",
              " 1,\n",
              " 0,\n",
              " 1,\n",
              " 1,\n",
              " 1,\n",
              " 0,\n",
              " 1,\n",
              " 1,\n",
              " 1,\n",
              " 0,\n",
              " 0,\n",
              " 1,\n",
              " 1]"
            ]
          },
          "metadata": {
            "tags": []
          },
          "execution_count": 18
        }
      ]
    },
    {
      "cell_type": "code",
      "metadata": {
        "colab": {
          "base_uri": "https://localhost:8080/"
        },
        "id": "pRVrEJDuGJ4c",
        "outputId": "5b1fd7f5-9776-4923-d955-321ee67acea4"
      },
      "source": [
        "model.coef_, model.intercept_"
      ],
      "execution_count": 19,
      "outputs": [
        {
          "output_type": "execute_result",
          "data": {
            "text/plain": [
              "(array([ 0.90164463, -1.51165549]), -0.18718902072122612)"
            ]
          },
          "metadata": {
            "tags": []
          },
          "execution_count": 19
        }
      ]
    }
  ]
}