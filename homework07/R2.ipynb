{
  "nbformat": 4,
  "nbformat_minor": 0,
  "metadata": {
    "kernelspec": {
      "display_name": "R",
      "language": "R",
      "name": "ir"
    },
    "language_info": {
      "codemirror_mode": "r",
      "file_extension": ".r",
      "mimetype": "text/x-r-source",
      "name": "R",
      "pygments_lexer": "r",
      "version": "3.5.1"
    },
    "colab": {
      "name": "task_2_R.ipynb",
      "provenance": []
    }
  },
  "cells": [
    {
      "cell_type": "code",
      "metadata": {
        "id": "fMz5eQ9UWbSX"
      },
      "source": [
        "df <- read.csv('howpop_train.csv')"
      ],
      "execution_count": null,
      "outputs": []
    },
    {
      "cell_type": "code",
      "metadata": {
        "id": "YhfaNGssWbSe"
      },
      "source": [
        "library(anytime)\n",
        "mydate = anytime(df$published)"
      ],
      "execution_count": null,
      "outputs": []
    },
    {
      "cell_type": "code",
      "metadata": {
        "id": "S-EPPKKrWbSe"
      },
      "source": [
        "mydate = as.POSIXlt(mydate)"
      ],
      "execution_count": null,
      "outputs": []
    },
    {
      "cell_type": "code",
      "metadata": {
        "id": "UWt7GulJWbSe",
        "outputId": "a4228a9e-b93c-41ef-c651-0c52cef1e85a"
      },
      "source": [
        "str(mydate)"
      ],
      "execution_count": null,
      "outputs": [
        {
          "output_type": "stream",
          "text": [
            " POSIXlt[1:134137], format: \"2008-01-01 18:19:00\" \"2008-01-01 18:30:00\" \"2008-01-01 18:34:00\" ...\n"
          ],
          "name": "stdout"
        }
      ]
    },
    {
      "cell_type": "code",
      "metadata": {
        "id": "L1EBNintWbSf"
      },
      "source": [
        "df$year = as.numeric(format(mydate, \"%Y\"))\n",
        "df$month = as.numeric(format(mydate, \"%m\"))\n",
        "df$day = as.numeric(format(mydate, \"%d\"))\n",
        "df$hour = as.numeric(format(mydate, \"%H\"))\n",
        "df$weekday = weekdays(mydate, abbreviate = F)"
      ],
      "execution_count": null,
      "outputs": []
    },
    {
      "cell_type": "code",
      "metadata": {
        "id": "fsLHOCIQWbSf",
        "outputId": "da54ff91-8c43-4a2e-fdcd-4672d22a3bab"
      },
      "source": [
        "str(df)"
      ],
      "execution_count": null,
      "outputs": [
        {
          "output_type": "stream",
          "text": [
            "'data.frame':\t134137 obs. of  22 variables:\n",
            " $ url             : Factor w/ 134137 levels \"https://geektimes.ru/company/1cloud/blog/240716/\",..: 92679 92683 92684 92686 12698 92695 12702 92724 121835 92728 ...\n",
            " $ domain          : Factor w/ 2 levels \"geektimes.ru\",..: 2 2 2 2 1 2 1 2 2 2 ...\n",
            " $ post_id         : int  18284 18285 18286 18291 18294 18295 18306 18311 31352 18314 ...\n",
            " $ published       : Factor w/ 130291 levels \"2008-01-01 18:19:00\",..: 1 2 3 4 5 6 7 8 9 10 ...\n",
            " $ author          : Factor w/ 22078 levels \"\",\"@0000168\",..: 18691 5005 5005 18689 4862 11582 293 1620 10787 11582 ...\n",
            " $ flow            : Factor w/ 7 levels \"\",\"admin\",\"design\",..: 4 3 3 3 1 4 1 7 4 4 ...\n",
            " $ polling         : Factor w/ 2 levels \"False\",\"True\": 1 1 1 1 1 1 1 1 1 1 ...\n",
            " $ content_len     : int  4305 7344 8431 5662 3706 3171 435 3291 1953 3712 ...\n",
            " $ title           : Factor w/ 133628 levels \" \",\" — а я вчера пересматривал «Доктора Хауса» на своем окне!\",..: 84422 120779 120779 113817 100727 22746 22778 43541 98237 22727 ...\n",
            " $ comments        : int  0 1 47 102 230 22 10 64 23 6 ...\n",
            " $ favs            : int  0 1 72 36 6 1 0 1 2 1 ...\n",
            " $ views           : int  236 353 1200 5700 1400 192 301 141 208 401 ...\n",
            " $ votes_plus      : num  0 1 45 72 73 9 5 17 21 2 ...\n",
            " $ votes_minus     : num  0 0 5 3 15 2 1 20 3 0 ...\n",
            " $ views_lognorm   : num  -0.793 -0.485 0.446 1.627 1.362 ...\n",
            " $ favs_lognorm    : num  -1.344 -0.832 1.794 1.3 0.961 ...\n",
            " $ comments_lognorm: num  -2.437 -1.873 0.575 1.167 2.02 ...\n",
            " $ year            : num  2008 2008 2008 2008 2008 ...\n",
            " $ month           : num  1 1 1 1 1 1 1 1 1 1 ...\n",
            " $ day             : num  1 1 1 2 2 2 3 3 3 3 ...\n",
            " $ hour            : num  18 18 18 1 14 16 12 17 22 23 ...\n",
            " $ weekday         : chr  \"Tuesday\" \"Tuesday\" \"Tuesday\" \"Wednesday\" ...\n"
          ],
          "name": "stdout"
        }
      ]
    },
    {
      "cell_type": "markdown",
      "metadata": {
        "id": "bKEO4BkhWbSf"
      },
      "source": [
        "1. В каком месяце (и какого года) было больше всего публикаций?"
      ]
    },
    {
      "cell_type": "code",
      "metadata": {
        "id": "BFkkFfBRWbSf",
        "outputId": "a0f5d875-7da5-4974-f181-4d3a87f0c40e"
      },
      "source": [
        "hist(df$year, col='orange')"
      ],
      "execution_count": null,
      "outputs": [
        {
          "output_type": "display_data",
          "data": {
            "image/png": "[encoded data removed]",
            "text/plain": [
              "Plot with title “Histogram of df$year”"
            ]
          },
          "metadata": {
            "tags": []
          }
        }
      ]
    },
    {
      "cell_type": "markdown",
      "metadata": {
        "id": "V-XKR8oWWbSg"
      },
      "source": [
        "По гистограмме видим, что самый популярный год - 2015"
      ]
    },
    {
      "cell_type": "code",
      "metadata": {
        "id": "mQSP3FJjWbSg"
      },
      "source": [
        "df_2015 <- subset(df, df$year == 2015, select = c('month', 'title', 'day', 'hour', 'domain', 'weekday'))"
      ],
      "execution_count": null,
      "outputs": []
    },
    {
      "cell_type": "code",
      "metadata": {
        "id": "mjna7-1jWbSg",
        "outputId": "f1e6283c-4968-4239-ffd5-f68f96d05a94"
      },
      "source": [
        "hist(df_2015$month, col='blue')"
      ],
      "execution_count": null,
      "outputs": [
        {
          "output_type": "display_data",
          "data": {
            "image/png": "[encoded data removed]",
            "text/plain": [
              "Plot with title “Histogram of df_2015$month”"
            ]
          },
          "metadata": {
            "tags": []
          }
        }
      ]
    },
    {
      "cell_type": "markdown",
      "metadata": {
        "id": "jdg6lygoWbSg"
      },
      "source": [
        "Больше всего записей в 2015 году в марте\n"
      ]
    },
    {
      "cell_type": "markdown",
      "metadata": {
        "id": "SjoXmNjvWbSg"
      },
      "source": [
        "2. Проанализируйте публикации в месяце из предыдущего вопроса"
      ]
    },
    {
      "cell_type": "code",
      "metadata": {
        "id": "mRLeeQCKWbSh"
      },
      "source": [
        "df_2015_03 <- subset(df_2015, df_2015$month == 3, select = c('month', 'title', 'day', 'hour', 'domain', 'weekday'))"
      ],
      "execution_count": null,
      "outputs": []
    },
    {
      "cell_type": "code",
      "metadata": {
        "id": "M-uOjqdpWbSh",
        "outputId": "337bde1f-6b5a-490c-d7b8-3ec6fbb9c39c"
      },
      "source": [
        "d <- density(df_2015_03$day)\n",
        "plot(d, col='red')"
      ],
      "execution_count": null,
      "outputs": [
        {
          "output_type": "display_data",
          "data": {
            "image/png": "[encoded data removed]",
            "text/plain": [
              "Plot with title “density.default(x = df_2015_03$day)”"
            ]
          },
          "metadata": {
            "tags": []
          }
        }
      ]
    },
    {
      "cell_type": "code",
      "metadata": {
        "id": "59XvUH_BWbSh",
        "outputId": "a39f2b10-365b-4448-a593-eecf1ab633b9"
      },
      "source": [
        "head(df_2015_03)"
      ],
      "execution_count": null,
      "outputs": [
        {
          "output_type": "display_data",
          "data": {
            "text/html": [
              "<table>\n",
              "<thead><tr><th></th><th scope=col>month</th><th scope=col>title</th><th scope=col>day</th><th scope=col>hour</th><th scope=col>domain</th><th scope=col>weekday</th></tr></thead>\n",
              "<tbody>\n",
              "\t<tr><th scope=row>97667</th><td>3                                                                                                                                </td><td>Введение в разработку слайд-шоу на JavaScript                                                                                    </td><td>1                                                                                                                                </td><td> 0                                                                                                                               </td><td>habrahabr.ru                                                                                                                     </td><td>Sunday                                                                                                                           </td></tr>\n",
              "\t<tr><th scope=row>97668</th><td>3                                                                                                                                </td><td>Дайджест KolibriOS #7: как мы зиму перезимовали                                                                                  </td><td>1                                                                                                                                </td><td> 0                                                                                                                               </td><td>habrahabr.ru                                                                                                                     </td><td>Sunday                                                                                                                           </td></tr>\n",
              "\t<tr><th scope=row>97669</th><td>3                                                                                                                                </td><td>9 марта компания Apple сделает то, что не делала в течение последних 5 лет                                                       </td><td>1                                                                                                                                </td><td> 7                                                                                                                               </td><td>habrahabr.ru                                                                                                                     </td><td>Sunday                                                                                                                           </td></tr>\n",
              "\t<tr><th scope=row>97670</th><td>3                                                                                                                                </td><td>Context Model Pattern via Aero Framework                                                                                         </td><td>1                                                                                                                                </td><td> 7                                                                                                                               </td><td>habrahabr.ru                                                                                                                     </td><td>Sunday                                                                                                                           </td></tr>\n",
              "\t<tr><th scope=row>97671</th><td>3                                                                                                                                </td><td>Заполнение текстовых шаблонов данными на основе модели. Реализация на .NET с использованием динамических функций в байт-коде (IL)</td><td>1                                                                                                                                </td><td>10                                                                                                                               </td><td>habrahabr.ru                                                                                                                     </td><td>Sunday                                                                                                                           </td></tr>\n",
              "\t<tr><th scope=row>97672</th><td>3                                                                                                                                </td><td>Философия программирования 5 — Колибри и Реактос                                                                                 </td><td>1                                                                                                                                </td><td>12                                                                                                                               </td><td>habrahabr.ru                                                                                                                     </td><td>Sunday                                                                                                                           </td></tr>\n",
              "</tbody>\n",
              "</table>\n"
            ],
            "text/latex": "\\begin{tabular}{r|llllll}\n  & month & title & day & hour & domain & weekday\\\\\n\\hline\n\t97667 & 3                                                                                                                                 & Введение в разработку слайд-шоу на JavaScript                                                                                     & 1                                                                                                                                 &  0                                                                                                                                & habrahabr.ru                                                                                                                      & Sunday                                                                                                                           \\\\\n\t97668 & 3                                                                                                                                   & Дайджест KolibriOS \\#7: как мы зиму перезимовали                                                                                   & 1                                                                                                                                   &  0                                                                                                                                  & habrahabr.ru                                                                                                                        & Sunday                                                                                                                             \\\\\n\t97669 & 3                                                                                                                                 & 9 марта компания Apple сделает то, что не делала в течение последних 5 лет                                                        & 1                                                                                                                                 &  7                                                                                                                                & habrahabr.ru                                                                                                                      & Sunday                                                                                                                           \\\\\n\t97670 & 3                                                                                                                                 & Context Model Pattern via Aero Framework                                                                                          & 1                                                                                                                                 &  7                                                                                                                                & habrahabr.ru                                                                                                                      & Sunday                                                                                                                           \\\\\n\t97671 & 3                                                                                                                                 & Заполнение текстовых шаблонов данными на основе модели. Реализация на .NET с использованием динамических функций в байт-коде (IL) & 1                                                                                                                                 & 10                                                                                                                                & habrahabr.ru                                                                                                                      & Sunday                                                                                                                           \\\\\n\t97672 & 3                                                                                                                                 & Философия программирования 5 — Колибри и Реактос                                                                                  & 1                                                                                                                                 & 12                                                                                                                                & habrahabr.ru                                                                                                                      & Sunday                                                                                                                           \\\\\n\\end{tabular}\n",
            "text/markdown": "\n| <!--/--> | month | title | day | hour | domain | weekday | \n|---|---|---|---|---|---|\n| 97667 | 3                                                                                                                                 | Введение в разработку слайд-шоу на JavaScript                                                                                     | 1                                                                                                                                 |  0                                                                                                                                | habrahabr.ru                                                                                                                      | Sunday                                                                                                                            | \n| 97668 | 3                                                                                                                                 | Дайджест KolibriOS #7: как мы зиму перезимовали                                                                                   | 1                                                                                                                                 |  0                                                                                                                                | habrahabr.ru                                                                                                                      | Sunday                                                                                                                            | \n| 97669 | 3                                                                                                                                 | 9 марта компания Apple сделает то, что не делала в течение последних 5 лет                                                        | 1                                                                                                                                 |  7                                                                                                                                | habrahabr.ru                                                                                                                      | Sunday                                                                                                                            | \n| 97670 | 3                                                                                                                                 | Context Model Pattern via Aero Framework                                                                                          | 1                                                                                                                                 |  7                                                                                                                                | habrahabr.ru                                                                                                                      | Sunday                                                                                                                            | \n| 97671 | 3                                                                                                                                 | Заполнение текстовых шаблонов данными на основе модели. Реализация на .NET с использованием динамических функций в байт-коде (IL) | 1                                                                                                                                 | 10                                                                                                                                | habrahabr.ru                                                                                                                      | Sunday                                                                                                                            | \n| 97672 | 3                                                                                                                                 | Философия программирования 5 — Колибри и Реактос                                                                                  | 1                                                                                                                                 | 12                                                                                                                                | habrahabr.ru                                                                                                                      | Sunday                                                                                                                            | \n\n\n",
            "text/plain": [
              "      month\n",
              "97667 3    \n",
              "97668 3    \n",
              "97669 3    \n",
              "97670 3    \n",
              "97671 3    \n",
              "97672 3    \n",
              "      title                                                                                                                            \n",
              "97667 Введение в разработку слайд-шоу на JavaScript                                                                                    \n",
              "97668 Дайджест KolibriOS #7: как мы зиму перезимовали                                                                                  \n",
              "97669 9 марта компания Apple сделает то, что не делала в течение последних 5 лет                                                       \n",
              "97670 Context Model Pattern via Aero Framework                                                                                         \n",
              "97671 Заполнение текстовых шаблонов данными на основе модели. Реализация на .NET с использованием динамических функций в байт-коде (IL)\n",
              "97672 Философия программирования 5 — Колибри и Реактос                                                                                 \n",
              "      day hour domain       weekday\n",
              "97667 1    0   habrahabr.ru Sunday \n",
              "97668 1    0   habrahabr.ru Sunday \n",
              "97669 1    7   habrahabr.ru Sunday \n",
              "97670 1    7   habrahabr.ru Sunday \n",
              "97671 1   10   habrahabr.ru Sunday \n",
              "97672 1   12   habrahabr.ru Sunday "
            ]
          },
          "metadata": {
            "tags": []
          }
        }
      ]
    },
    {
      "cell_type": "code",
      "metadata": {
        "id": "Q7rd8pczWbSh",
        "outputId": "8d7b886c-ce8c-4ac7-873e-439d6b05d1e5"
      },
      "source": [
        "library(lattice)\n",
        "histogram( ~ df_2015_03$day | df_2015_03$domain, col='pink')"
      ],
      "execution_count": null,
      "outputs": [
        {
          "output_type": "display_data",
          "data": {},
          "metadata": {
            "tags": []
          }
        },
        {
          "output_type": "display_data",
          "data": {
            "image/png": "[encoded data removed]",
            "text/plain": [
              "plot without title"
            ]
          },
          "metadata": {
            "tags": []
          }
        }
      ]
    },
    {
      "cell_type": "markdown",
      "metadata": {
        "id": "Wqw-2FDCWbSi"
      },
      "source": [
        "Если сравнивать количество постов в день, есть дни, когда постов на гиктаймс больше, чем на хабре"
      ]
    },
    {
      "cell_type": "code",
      "metadata": {
        "id": "yM1_aEAJWbSi"
      },
      "source": [
        "sats <- subset(df_2015_03, df_2015_03$weekday == 'Saturday', select = c('day', 'hour', 'domain'))"
      ],
      "execution_count": null,
      "outputs": []
    },
    {
      "cell_type": "code",
      "metadata": {
        "id": "KmJaV-fLWbSi",
        "outputId": "59277aa2-320c-4e21-a068-5b040c094c7f"
      },
      "source": [
        "unique(sats$day)"
      ],
      "execution_count": null,
      "outputs": [
        {
          "output_type": "display_data",
          "data": {
            "text/html": [
              "<ol class=list-inline>\n",
              "\t<li>7</li>\n",
              "\t<li>14</li>\n",
              "\t<li>21</li>\n",
              "\t<li>28</li>\n",
              "</ol>\n"
            ],
            "text/latex": "\\begin{enumerate*}\n\\item 7\n\\item 14\n\\item 21\n\\item 28\n\\end{enumerate*}\n",
            "text/markdown": "1. 7\n2. 14\n3. 21\n4. 28\n\n\n",
            "text/plain": [
              "[1]  7 14 21 28"
            ]
          },
          "metadata": {
            "tags": []
          }
        }
      ]
    },
    {
      "cell_type": "code",
      "metadata": {
        "id": "si8QFl6FWbSi",
        "outputId": "55aee70f-46e7-4006-c7b7-b88d3afe2ad8"
      },
      "source": [
        "table(sats$domain)['habrahabr.ru']\n",
        "table(sats$domain)['geektimes.ru']"
      ],
      "execution_count": null,
      "outputs": [
        {
          "output_type": "display_data",
          "data": {
            "text/html": [
              "<strong>habrahabr.ru:</strong> 58"
            ],
            "text/latex": "\\textbf{habrahabr.ru:} 58",
            "text/markdown": "**habrahabr.ru:** 58",
            "text/plain": [
              "habrahabr.ru \n",
              "          58 "
            ]
          },
          "metadata": {
            "tags": []
          }
        },
        {
          "output_type": "display_data",
          "data": {
            "text/html": [
              "<strong>geektimes.ru:</strong> 57"
            ],
            "text/latex": "\\textbf{geektimes.ru:} 57",
            "text/markdown": "**geektimes.ru:** 57",
            "text/plain": [
              "geektimes.ru \n",
              "          57 "
            ]
          },
          "metadata": {
            "tags": []
          }
        }
      ]
    },
    {
      "cell_type": "markdown",
      "metadata": {
        "id": "YU-T1QlUWbSi"
      },
      "source": [
        "По субботам на гиктаймс и на хабрахабр публикуют примерно одинаковое число статей\n"
      ]
    },
    {
      "cell_type": "markdown",
      "metadata": {
        "id": "fjmwqK3lWbSj"
      },
      "source": [
        "3. Когда лучше всего публиковать статью?"
      ]
    },
    {
      "cell_type": "code",
      "metadata": {
        "id": "v-Oi_IL9WbSj"
      },
      "source": [
        "library(dplyr)\n",
        "mean_views <- (df %>% group_by(hour) %>%\n",
        " summarise(mean = mean(views)))"
      ],
      "execution_count": null,
      "outputs": []
    },
    {
      "cell_type": "code",
      "metadata": {
        "id": "ZK37XcD8WbSj",
        "outputId": "d8efeebf-7978-4c2d-b70d-b3b68e1eb593"
      },
      "source": [
        "max(mean_views)"
      ],
      "execution_count": null,
      "outputs": [
        {
          "output_type": "display_data",
          "data": {
            "text/html": [
              "22024,6578411405"
            ],
            "text/latex": "22024,6578411405",
            "text/markdown": "22024,6578411405",
            "text/plain": [
              "[1] 22024,66"
            ]
          },
          "metadata": {
            "tags": []
          }
        }
      ]
    },
    {
      "cell_type": "code",
      "metadata": {
        "id": "WCCjZzm1WbSj",
        "outputId": "30668ecb-3b2b-4506-cd29-1a37ab07f24d"
      },
      "source": [
        "mean_views[mean_views['mean'] == max(mean_views), 'hour']"
      ],
      "execution_count": null,
      "outputs": [
        {
          "output_type": "display_data",
          "data": {
            "text/html": [
              "<table>\n",
              "<thead><tr><th scope=col>hour</th></tr></thead>\n",
              "<tbody>\n",
              "\t<tr><td>5</td></tr>\n",
              "</tbody>\n",
              "</table>\n"
            ],
            "text/latex": "\\begin{tabular}{r|l}\n hour\\\\\n\\hline\n\t 5\\\\\n\\end{tabular}\n",
            "text/markdown": "\nhour | \n|---|\n| 5 | \n\n\n",
            "text/plain": [
              "  hour\n",
              "1 5   "
            ]
          },
          "metadata": {
            "tags": []
          }
        }
      ]
    },
    {
      "cell_type": "code",
      "metadata": {
        "id": "HHyiYlG-WbSj"
      },
      "source": [
        "library(dplyr)\n",
        "mean_comms <- (df %>% group_by(hour) %>%\n",
        " summarise(mean = mean(comments)))"
      ],
      "execution_count": null,
      "outputs": []
    },
    {
      "cell_type": "code",
      "metadata": {
        "id": "43aacQUrWbSj",
        "outputId": "9ef5b52e-5ef6-4f8f-9a78-d6813cf229ab"
      },
      "source": [
        "max(mean_comms)"
      ],
      "execution_count": null,
      "outputs": [
        {
          "output_type": "display_data",
          "data": {
            "text/html": [
              "53,935691318328"
            ],
            "text/latex": "53,935691318328",
            "text/markdown": "53,935691318328",
            "text/plain": [
              "[1] 53,93569"
            ]
          },
          "metadata": {
            "tags": []
          }
        }
      ]
    },
    {
      "cell_type": "code",
      "metadata": {
        "id": "8Grac-WWWbSk",
        "outputId": "f09a0ab9-fd22-436a-90e9-9a428147f675"
      },
      "source": [
        "mean_comms[mean_comms['mean'] == max(mean_comms), 'hour']"
      ],
      "execution_count": null,
      "outputs": [
        {
          "output_type": "display_data",
          "data": {
            "text/html": [
              "<table>\n",
              "<thead><tr><th scope=col>hour</th></tr></thead>\n",
              "<tbody>\n",
              "\t<tr><td>4</td></tr>\n",
              "</tbody>\n",
              "</table>\n"
            ],
            "text/latex": "\\begin{tabular}{r|l}\n hour\\\\\n\\hline\n\t 4\\\\\n\\end{tabular}\n",
            "text/markdown": "\nhour | \n|---|\n| 4 | \n\n\n",
            "text/plain": [
              "  hour\n",
              "1 4   "
            ]
          },
          "metadata": {
            "tags": []
          }
        }
      ]
    },
    {
      "cell_type": "code",
      "metadata": {
        "id": "5V7Prp4kWbSk"
      },
      "source": [
        "geek <- subset(df, df$domain == 'geektimes.ru', select = c('comments', 'hour', 'domain'))"
      ],
      "execution_count": null,
      "outputs": []
    },
    {
      "cell_type": "code",
      "metadata": {
        "id": "8VWYDLOgWbSk"
      },
      "source": [
        "library(dplyr)\n",
        "most_comms <- (geek %>% group_by(hour) %>%\n",
        " summarise(max = max(comments)))"
      ],
      "execution_count": null,
      "outputs": []
    },
    {
      "cell_type": "code",
      "metadata": {
        "id": "CeVkk0qPWbSk",
        "outputId": "e7bebe84-80aa-4ffc-97d4-c676427c6a8a"
      },
      "source": [
        "max(most_comms)"
      ],
      "execution_count": null,
      "outputs": [
        {
          "output_type": "display_data",
          "data": {
            "text/html": [
              "2266"
            ],
            "text/latex": "2266",
            "text/markdown": "2266",
            "text/plain": [
              "[1] 2266"
            ]
          },
          "metadata": {
            "tags": []
          }
        }
      ]
    },
    {
      "cell_type": "code",
      "metadata": {
        "id": "sj6QGkYVWbSk",
        "outputId": "ab270e11-62a6-4ce5-d912-2a7b4bc0105c"
      },
      "source": [
        "most_comms[most_comms['max'] == max(most_comms), 'hour']"
      ],
      "execution_count": null,
      "outputs": [
        {
          "output_type": "display_data",
          "data": {
            "text/html": [
              "<table>\n",
              "<thead><tr><th scope=col>hour</th></tr></thead>\n",
              "<tbody>\n",
              "\t<tr><td>3</td></tr>\n",
              "</tbody>\n",
              "</table>\n"
            ],
            "text/latex": "\\begin{tabular}{r|l}\n hour\\\\\n\\hline\n\t 3\\\\\n\\end{tabular}\n",
            "text/markdown": "\nhour | \n|---|\n| 3 | \n\n\n",
            "text/plain": [
              "  hour\n",
              "1 3   "
            ]
          },
          "metadata": {
            "tags": []
          }
        }
      ]
    },
    {
      "cell_type": "code",
      "metadata": {
        "id": "Kj2cmrilWbSl"
      },
      "source": [
        "habr <- subset(df, df$domain == 'habrahabr.ru', select = c('comments', 'hour', 'domain'))"
      ],
      "execution_count": null,
      "outputs": []
    },
    {
      "cell_type": "code",
      "metadata": {
        "id": "KryB2--mWbSl"
      },
      "source": [
        "library(dplyr)\n",
        "mean_comms_h <- (habr %>% group_by(hour) %>%\n",
        " summarise(mean = mean(comments)))"
      ],
      "execution_count": null,
      "outputs": []
    },
    {
      "cell_type": "code",
      "metadata": {
        "id": "rdpRadnUWbSl",
        "outputId": "c7159686-5791-4f2d-8425-85d3f5dc7724"
      },
      "source": [
        "plot(mean_comms_h, type='b', col='orange')"
      ],
      "execution_count": null,
      "outputs": [
        {
          "output_type": "display_data",
          "data": {
            "image/png": "[encoded data removed]",
            "text/plain": [
              "plot without title"
            ]
          },
          "metadata": {
            "tags": []
          }
        }
      ]
    },
    {
      "cell_type": "markdown",
      "metadata": {
        "id": "Hp7HMeOyWbSl"
      },
      "source": [
        "Больше всего просмотров набирают статьи, опубликованные в 6 часов утра\n"
      ]
    },
    {
      "cell_type": "markdown",
      "metadata": {
        "id": "cnBGwS9pWbSl"
      },
      "source": [
        "4. Кого из топ-20 авторов чаще всего минусуют?"
      ]
    },
    {
      "cell_type": "code",
      "metadata": {
        "id": "jxl8ktPLWbSl"
      },
      "source": [
        "morda <- subset(df, df$author == '@Mordatyj', select = c('comments', 'hour', 'domain', 'votes_minus'))"
      ],
      "execution_count": null,
      "outputs": []
    },
    {
      "cell_type": "code",
      "metadata": {
        "id": "OuVkIS0UWbSm"
      },
      "source": [
        "morda[is.na(morda)] <- 0"
      ],
      "execution_count": null,
      "outputs": []
    },
    {
      "cell_type": "code",
      "metadata": {
        "id": "6XmHpj6WWbSm",
        "outputId": "215e9c56-ebbd-455a-cf26-6266d914d0ff"
      },
      "source": [
        "round(mean(morda$votes_minus)) # @Mordatyj"
      ],
      "execution_count": null,
      "outputs": [
        {
          "output_type": "display_data",
          "data": {
            "text/html": [
              "7"
            ],
            "text/latex": "7",
            "text/markdown": "7",
            "text/plain": [
              "[1] 7"
            ]
          },
          "metadata": {
            "tags": []
          }
        }
      ]
    },
    {
      "cell_type": "code",
      "metadata": {
        "id": "xoFZAy4mWbSm"
      },
      "source": [
        "mithgol <- subset(df, df$author == '@Mithgol', select = c('comments', 'hour', 'domain', 'votes_minus'))"
      ],
      "execution_count": null,
      "outputs": []
    },
    {
      "cell_type": "code",
      "metadata": {
        "id": "U2ZFZxL5WbSm"
      },
      "source": [
        "mithgol[is.na(mithgol)] <- 0"
      ],
      "execution_count": null,
      "outputs": []
    },
    {
      "cell_type": "code",
      "metadata": {
        "id": "cdxtF9YSWbSm",
        "outputId": "99c44696-9fe1-42f2-8958-5c614636acc2"
      },
      "source": [
        "round(mean(mithgol$votes_minus)) # @Mithgol"
      ],
      "execution_count": null,
      "outputs": [
        {
          "output_type": "display_data",
          "data": {
            "text/html": [
              "20"
            ],
            "text/latex": "20",
            "text/markdown": "20",
            "text/plain": [
              "[1] 20"
            ]
          },
          "metadata": {
            "tags": []
          }
        }
      ]
    },
    {
      "cell_type": "code",
      "metadata": {
        "id": "HrEy-0ivWbSm"
      },
      "source": [
        "alizar <- subset(df, df$author == '@alizar', select = c('comments', 'hour', 'domain', 'votes_minus'))"
      ],
      "execution_count": null,
      "outputs": []
    },
    {
      "cell_type": "code",
      "metadata": {
        "id": "Oa6Zml5bWbSm"
      },
      "source": [
        "alizar[is.na(alizar)] <- 0"
      ],
      "execution_count": null,
      "outputs": []
    },
    {
      "cell_type": "code",
      "metadata": {
        "id": "EgJJNhmlWbSn",
        "outputId": "f32ab6a5-e67c-48e8-84e1-58e192e3feae"
      },
      "source": [
        "round(mean(alizar$votes_minus)) # @alizar"
      ],
      "execution_count": null,
      "outputs": [
        {
          "output_type": "display_data",
          "data": {
            "text/html": [
              "8"
            ],
            "text/latex": "8",
            "text/markdown": "8",
            "text/plain": [
              "[1] 8"
            ]
          },
          "metadata": {
            "tags": []
          }
        }
      ]
    },
    {
      "cell_type": "code",
      "metadata": {
        "id": "RwfBR4NBWbSn"
      },
      "source": [
        "ilya42 <- subset(df, df$author == '@ilya42', select = c('comments', 'hour', 'domain', 'votes_minus'))"
      ],
      "execution_count": null,
      "outputs": []
    },
    {
      "cell_type": "code",
      "metadata": {
        "id": "CyHvOiNSWbSn"
      },
      "source": [
        "ilya42[is.na(ilya42)] <- 0"
      ],
      "execution_count": null,
      "outputs": []
    },
    {
      "cell_type": "code",
      "metadata": {
        "id": "iQCuoxSZWbSn",
        "outputId": "e768a22f-e842-46fc-b2f9-1fc94cd91063"
      },
      "source": [
        "round(mean(ilya42$votes_minus)) # @ilya42"
      ],
      "execution_count": null,
      "outputs": [
        {
          "output_type": "display_data",
          "data": {
            "text/html": [
              "6"
            ],
            "text/latex": "6",
            "text/markdown": "6",
            "text/plain": [
              "[1] 6"
            ]
          },
          "metadata": {
            "tags": []
          }
        }
      ]
    },
    {
      "cell_type": "markdown",
      "metadata": {
        "id": "uWZMC5lmWbSn"
      },
      "source": [
        "@Mithgol"
      ]
    },
    {
      "cell_type": "markdown",
      "metadata": {
        "id": "UPWqbnVBWbSn"
      },
      "source": [
        "5. Сравните субботы и понедельники"
      ]
    },
    {
      "cell_type": "code",
      "metadata": {
        "id": "EG9ThyHGWbSn"
      },
      "source": [
        "saturdays <- subset(df, df$weekday == 'Saturday', select = c('hour'))"
      ],
      "execution_count": null,
      "outputs": []
    },
    {
      "cell_type": "code",
      "metadata": {
        "id": "FpoDDal9WbSo",
        "outputId": "e38a1843-c825-4bbc-ebc3-590eed839029"
      },
      "source": [
        "library(lattice)\n",
        "histogram( ~ df$hour | df$weekday, col='blue')"
      ],
      "execution_count": null,
      "outputs": [
        {
          "output_type": "display_data",
          "data": {},
          "metadata": {
            "tags": []
          }
        },
        {
          "output_type": "display_data",
          "data": {
            "image/png": "[encoded data removed]",
            "text/plain": [
              "plot without title"
            ]
          },
          "metadata": {
            "tags": []
          }
        }
      ]
    },
    {
      "cell_type": "markdown",
      "metadata": {
        "id": "3kiX5mCSWbSp"
      },
      "source": [
        "Не правда"
      ]
    }
  ]
}